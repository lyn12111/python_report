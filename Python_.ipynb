{
  "nbformat": 4,
  "nbformat_minor": 0,
  "metadata": {
    "colab": {
      "provenance": [],
      "authorship_tag": "ABX9TyO5/a1oOA0OYAtIne04CVt0",
      "include_colab_link": true
    },
    "kernelspec": {
      "name": "python3",
      "display_name": "Python 3"
    },
    "language_info": {
      "name": "python"
    }
  },
  "cells": [
    {
      "cell_type": "markdown",
      "metadata": {
        "id": "view-in-github",
        "colab_type": "text"
      },
      "source": [
        "<a href=\"https://colab.research.google.com/github/lyn12111/python_report/blob/main/Python_.ipynb\" target=\"_parent\"><img src=\"https://colab.research.google.com/assets/colab-badge.svg\" alt=\"Open In Colab\"/></a>"
      ]
    },
    {
      "cell_type": "code",
      "execution_count": null,
      "metadata": {
        "colab": {
          "base_uri": "https://localhost:8080/"
        },
        "id": "iqcwXFgOAHkX",
        "outputId": "1e6915ab-8da5-4d47-b065-789f65ea7d31"
      },
      "outputs": [
        {
          "output_type": "stream",
          "name": "stdout",
          "text": [
            "Hello World\n"
          ]
        }
      ],
      "source": [
        "print(\"Hello World\")"
      ]
    },
    {
      "cell_type": "code",
      "source": [
        "print('Hello World')"
      ],
      "metadata": {
        "colab": {
          "base_uri": "https://localhost:8080/"
        },
        "id": "AqQjlBQ5A4K-",
        "outputId": "b192d4c8-72d4-4453-85dc-d08733cb3cb4"
      },
      "execution_count": null,
      "outputs": [
        {
          "output_type": "stream",
          "name": "stdout",
          "text": [
            "Hello World\n"
          ]
        }
      ]
    },
    {
      "cell_type": "code",
      "source": [
        "print(1+2)"
      ],
      "metadata": {
        "colab": {
          "base_uri": "https://localhost:8080/"
        },
        "id": "N5js4ZKTBBhb",
        "outputId": "f692b93b-2003-4890-c298-b3dc6002a019"
      },
      "execution_count": null,
      "outputs": [
        {
          "output_type": "stream",
          "name": "stdout",
          "text": [
            "3\n"
          ]
        }
      ]
    },
    {
      "cell_type": "code",
      "source": [
        "print(2*3)"
      ],
      "metadata": {
        "colab": {
          "base_uri": "https://localhost:8080/"
        },
        "id": "3m0-ljIQBGcc",
        "outputId": "d19b2fa2-99c0-4895-b8a0-e769d846f657"
      },
      "execution_count": null,
      "outputs": [
        {
          "output_type": "stream",
          "name": "stdout",
          "text": [
            "6\n"
          ]
        }
      ]
    },
    {
      "cell_type": "code",
      "source": [
        "print(True)"
      ],
      "metadata": {
        "colab": {
          "base_uri": "https://localhost:8080/"
        },
        "id": "Vgj_-NM-Fo3V",
        "outputId": "54642f06-3068-4b86-d901-306fc9658032"
      },
      "execution_count": 12,
      "outputs": [
        {
          "output_type": "stream",
          "name": "stdout",
          "text": [
            "True\n"
          ]
        }
      ]
    },
    {
      "cell_type": "code",
      "source": [
        "print(False)"
      ],
      "metadata": {
        "colab": {
          "base_uri": "https://localhost:8080/"
        },
        "id": "ACSrrHy2Ft10",
        "outputId": "ab245048-4ae7-4c14-ce30-f259a01efaee"
      },
      "execution_count": 13,
      "outputs": [
        {
          "output_type": "stream",
          "name": "stdout",
          "text": [
            "False\n"
          ]
        }
      ]
    },
    {
      "cell_type": "code",
      "source": [
        "a=3\n",
        "b=4\n",
        "c=a+b;\n",
        "print(c);print(a);print(b)"
      ],
      "metadata": {
        "colab": {
          "base_uri": "https://localhost:8080/"
        },
        "id": "iAHrX79cFxs9",
        "outputId": "ba2853d3-9183-4978-dae5-445a81be615c"
      },
      "execution_count": 17,
      "outputs": [
        {
          "output_type": "stream",
          "name": "stdout",
          "text": [
            "7\n",
            "3\n",
            "4\n"
          ]
        }
      ]
    },
    {
      "cell_type": "code",
      "source": [
        "a=\"안녕하세요. \"\n",
        "b=\"반갑습니다\"\n",
        "c=a+b\n",
        "print(c)\n"
      ],
      "metadata": {
        "colab": {
          "base_uri": "https://localhost:8080/"
        },
        "id": "x3dMV0aCGdKZ",
        "outputId": "c7d95472-1ed8-4848-d069-51e6f0961921"
      },
      "execution_count": 19,
      "outputs": [
        {
          "output_type": "stream",
          "name": "stdout",
          "text": [
            "안녕하세요. 반갑습니다\n"
          ]
        }
      ]
    },
    {
      "cell_type": "code",
      "source": [
        "a=\"안녕하세요. \"\n",
        "b=a*10\n",
        "print(b)"
      ],
      "metadata": {
        "colab": {
          "base_uri": "https://localhost:8080/"
        },
        "id": "HG6A_HnzGp80",
        "outputId": "481d8ce2-f6aa-4c16-de97-9b273634e745"
      },
      "execution_count": 20,
      "outputs": [
        {
          "output_type": "stream",
          "name": "stdout",
          "text": [
            "안녕하세요. 안녕하세요. 안녕하세요. 안녕하세요. 안녕하세요. 안녕하세요. 안녕하세요. 안녕하세요. 안녕하세요. 안녕하세요. \n"
          ]
        }
      ]
    },
    {
      "cell_type": "code",
      "source": [
        "print(\"kkkkkkkkkkkkkkk\")\n",
        "print(\"k\"*15)"
      ],
      "metadata": {
        "colab": {
          "base_uri": "https://localhost:8080/"
        },
        "id": "wHX6rD0NGy38",
        "outputId": "905b4398-0c04-4ff9-e1f0-e581e402829a"
      },
      "execution_count": 23,
      "outputs": [
        {
          "output_type": "stream",
          "name": "stdout",
          "text": [
            "kkkkkkkkkkkkkkk\n",
            "kkkkkkkkkkkkkkk\n"
          ]
        }
      ]
    },
    {
      "cell_type": "markdown",
      "source": [
        "아버지와 어머니 그리고 삼촌에게 감사한 마음을 전하고 싶습니다. \n",
        "아버지에게는 10만원, 어머니에게는 15만원을 삼촌에게는 \"감사합니다\".\n",
        "변수 : _Father, _Mather,_Uncle"
      ],
      "metadata": {
        "id": "Op_T3L7WHEp1"
      }
    },
    {
      "cell_type": "code",
      "source": [
        "_father=\"100000\"\n",
        "_mather=\"150000\"\n",
        "_uncle=\"감사합니다\"\n",
        "Thanks=_father,_mather,_uncle\n",
        "print(Thanks)\n",
        "print(\"아버지=\",_father,\"원\")\n",
        "print(\"어머니=\",_mather,\"원\")\n",
        "print(\"삼촌=\",_uncle)"
      ],
      "metadata": {
        "colab": {
          "base_uri": "https://localhost:8080/"
        },
        "id": "TdZLHriVHUVG",
        "outputId": "86cf22d7-4f8d-4f05-d506-cce42dd1634e"
      },
      "execution_count": 32,
      "outputs": [
        {
          "output_type": "stream",
          "name": "stdout",
          "text": [
            "('100000', '150000', '감사합니다')\n",
            "아버지= 100000 원\n",
            "어머니= 150000 원\n",
            "삼촌= 감사합니다\n"
          ]
        }
      ]
    },
    {
      "cell_type": "markdown",
      "source": [
        "변수의 규칙 : 문자 또는 _로 시작해야한다 (_father,_mather), 문자, 숫자 _구성\n",
        "(Father69,father56,Father_96),공백은 절대 안된다. 안 쓰는 것이 좋다, 특수문자 절대 안된다."
      ],
      "metadata": {
        "id": "0s8us_nLI45-"
      }
    },
    {
      "cell_type": "code",
      "source": [
        "a=2\n",
        "b=\"2\"\n",
        "c=a+ int(b)\n",
        "print(c)"
      ],
      "metadata": {
        "colab": {
          "base_uri": "https://localhost:8080/"
        },
        "id": "jAY6JnHKLTk4",
        "outputId": "afb60658-a096-49d7-de86-cb69803afb59"
      },
      "execution_count": 33,
      "outputs": [
        {
          "output_type": "stream",
          "name": "stdout",
          "text": [
            "4\n"
          ]
        }
      ]
    },
    {
      "cell_type": "markdown",
      "source": [
        "형변환: 저ㅓㅇ수형을 변환할떄 int(), 실수형으로 변환하고자 할때 float(), 문자자료형으로 변환하고자 할때 str(),int(float(\"2.5\"))\n"
      ],
      "metadata": {
        "id": "FZJqh-2pLdIw"
      }
    },
    {
      "cell_type": "markdown",
      "source": [
        "산술연산자: 더하기,빼기,곱하기\n"
      ],
      "metadata": {
        "id": "YIbmc66kL4O5"
      }
    }
  ]
}