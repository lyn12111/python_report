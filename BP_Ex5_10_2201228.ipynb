{
  "nbformat": 4,
  "nbformat_minor": 0,
  "metadata": {
    "colab": {
      "provenance": [],
      "authorship_tag": "ABX9TyM4/nqhF2Vo7Imy/ngGdmit",
      "include_colab_link": true
    },
    "kernelspec": {
      "name": "python3",
      "display_name": "Python 3"
    },
    "language_info": {
      "name": "python"
    }
  },
  "cells": [
    {
      "cell_type": "markdown",
      "metadata": {
        "id": "view-in-github",
        "colab_type": "text"
      },
      "source": [
        "<a href=\"https://colab.research.google.com/github/lyn12111/python_report/blob/main/BP_Ex5_10_2201228.ipynb\" target=\"_parent\"><img src=\"https://colab.research.google.com/assets/colab-badge.svg\" alt=\"Open In Colab\"/></a>"
      ]
    },
    {
      "cell_type": "code",
      "execution_count": null,
      "metadata": {
        "colab": {
          "base_uri": "https://localhost:8080/"
        },
        "id": "EqfKEWjR3gtx",
        "outputId": "a62cc00d-d8ba-4011-ab72-4153b6aaa93c"
      },
      "outputs": [
        {
          "output_type": "stream",
          "name": "stdout",
          "text": [
            "age=21\n",
            "20살 이상\n"
          ]
        }
      ],
      "source": [
        "age=int(input(\"age=\"))\n",
        "if age<20:\n",
        "  print('20살 미만')\n",
        "else:\n",
        "  print('20살 이상') "
      ]
    },
    {
      "cell_type": "code",
      "source": [
        "age=int(input(\"age=\"))\n",
        "if 30<age and age<50:\n",
        "  print('30이상 50이하')\n"
      ],
      "metadata": {
        "colab": {
          "base_uri": "https://localhost:8080/"
        },
        "id": "xjErQ6aH6TSe",
        "outputId": "99e485c3-a2ac-42a1-8c65-262002bef8ed"
      },
      "execution_count": null,
      "outputs": [
        {
          "output_type": "stream",
          "name": "stdout",
          "text": [
            "age=40\n",
            "30이상 50이하\n"
          ]
        }
      ]
    },
    {
      "cell_type": "code",
      "source": [
        "k=int(input(\"현재 온도를 입력하시오: \"))\n",
        "if 25<k:\n",
        "  print('반바지를 입으세요.')\n",
        "else:\n",
        "  print('긴바지를 입으세요.')"
      ],
      "metadata": {
        "colab": {
          "base_uri": "https://localhost:8080/"
        },
        "id": "cq-bGhOy_Dek",
        "outputId": "816e27be-1237-4d50-8c04-6c4e0a05bc7a"
      },
      "execution_count": null,
      "outputs": [
        {
          "output_type": "stream",
          "name": "stdout",
          "text": [
            "현재 온도를 입력하시오: 26\n",
            "반바지를 입으세요.\n"
          ]
        }
      ]
    },
    {
      "cell_type": "code",
      "source": [
        "score=int(input(\"성적을 입력하시오: \"))\n",
        "if 90<=score:\n",
        "  print('A학점입니다.')\n",
        "elif 80<=score<90:\n",
        "  print('B학점입니다.')\n",
        "elif 70<=score<80:\n",
        "  print('C학점입니다.')\n",
        "elif 60<=score<70:\n",
        "  print('D학점입니다.')\n",
        "else:\n",
        "  print('F학점입니다.')"
      ],
      "metadata": {
        "colab": {
          "base_uri": "https://localhost:8080/"
        },
        "id": "mn3yp9pk_ZXc",
        "outputId": "5bebb045-bc26-40ab-a21e-85745fa4fd61"
      },
      "execution_count": null,
      "outputs": [
        {
          "output_type": "stream",
          "name": "stdout",
          "text": [
            "성적을 입력하시오: 90\n",
            "A학점입니다.\n"
          ]
        }
      ]
    },
    {
      "cell_type": "code",
      "source": [
        "import random\n",
        "x=random.randint(1,100)\n",
        "y=random.randint(1,100)\n",
        "z=x-y\n",
        "print(x,\"-\",y,\"=\",z)"
      ],
      "metadata": {
        "colab": {
          "base_uri": "https://localhost:8080/"
        },
        "id": "MuEDxd25Abus",
        "outputId": "7b01a952-3654-42e9-deba-cbac0253f2ff"
      },
      "execution_count": null,
      "outputs": [
        {
          "output_type": "stream",
          "name": "stdout",
          "text": [
            "43 - 37 = 6\n"
          ]
        }
      ]
    },
    {
      "cell_type": "code",
      "source": [
        "n=int(input(\"정수를 입력하시오: \"))\n",
        "if n%3==0 and n%2==0:\n",
        "  print('2와 3으로 나누어 떨어집니다.')\n",
        "\n"
      ],
      "metadata": {
        "colab": {
          "base_uri": "https://localhost:8080/"
        },
        "id": "VM5myuYlCIMb",
        "outputId": "dd2cf02f-472d-406e-cc65-9444fc0bf90a"
      },
      "execution_count": null,
      "outputs": [
        {
          "output_type": "stream",
          "name": "stdout",
          "text": [
            "정수를 입력하시오: 6\n",
            "2와 3으로 나누어 떨어집니다.\n"
          ]
        }
      ]
    },
    {
      "cell_type": "code",
      "source": [
        "a=int(input(\"복권번호를 입력하시오(0에서 99사이): \"))\n",
        "import random\n",
        "x=random.randint(0,99)\n",
        "digit1=x//10\n",
        "digit2=x%10\n",
        "digit3=a//10\n",
        "digit4=a%10\n",
        "\n",
        "print(\"당첨번호는 \",x,\"입니다.\")\n",
        "if (digit1==digit3 and digit2==digit4) :\n",
        "  print('상금은 100만원입니다.')\n",
        "elif (digit1==digit3\n",
        "      or digit1==digit3\n",
        "      or digit2==digit3\n",
        "      or digit2==digit4):\n",
        "  print('상금은 50만원입니다.')\n",
        "else:\n",
        "  print('상금은 없습니다.')\n",
        "  "
      ],
      "metadata": {
        "colab": {
          "base_uri": "https://localhost:8080/"
        },
        "id": "sXpdWkUOC0Ms",
        "outputId": "34d71689-3d27-4a8a-8f35-5c94f5a14562"
      },
      "execution_count": null,
      "outputs": [
        {
          "output_type": "stream",
          "name": "stdout",
          "text": [
            "복권번호를 입력하시오(0에서 99사이): 56\n",
            "당첨번호는  31 입니다.\n",
            "상금은 없습니다.\n"
          ]
        }
      ]
    },
    {
      "cell_type": "code",
      "source": [],
      "metadata": {
        "id": "VDbDShSWEA_9"
      },
      "execution_count": null,
      "outputs": []
    }
  ]
}